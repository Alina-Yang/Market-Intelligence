{
 "cells": [
  {
   "cell_type": "markdown",
   "metadata": {},
   "source": [
    "# Assignment 4: Conjoint Analysis\n",
    "The objective of this assignment is to give you experience with ratings-based conjoint analysis.\n",
    "\n",
    "### Part 1: Study Design"
   ]
  },
  {
   "cell_type": "code",
   "execution_count": 99,
   "metadata": {},
   "outputs": [],
   "source": [
    "# Import the experimental design builder script.\n",
    "import sys\n",
    "sys.path.insert(1, '/data/Assignment-4')\n",
    "import designer"
   ]
  },
  {
   "cell_type": "markdown",
   "metadata": {},
   "source": [
    "**Task 1:** Define a variable called `attributes` that contains the attributes and levels within each attribute.  The viable shoukd be a dictionary where each attribute is a key and the value associated witht he key is a list of the levels.  For example, if the two attributes were color (with levels red and green) and shape (with levels round and square), then `attributes` would be defined as follows.\n",
    "\n",
    "```\n",
    "attributes = {\"color\": [\"red\", \"green\"],\n",
    "             \"shape\": [\"round\", \"square\"]}\n",
    "```"
   ]
  },
  {
   "cell_type": "code",
   "execution_count": 100,
   "metadata": {},
   "outputs": [],
   "source": [
    "attributes={ \"Sweetness\": [\"Sweetened\", \"Unsweetened\"],\n",
    "             \"Calories\": [\"At or above 150 calories\", \"Below 150 calories\"],\n",
    "             \"Content\":[\"Dairy\", \"Dairy-Free\"]}"
   ]
  },
  {
   "cell_type": "code",
   "execution_count": 101,
   "metadata": {},
   "outputs": [
    {
     "data": {
      "text/html": [
       "<div>\n",
       "<style scoped>\n",
       "    .dataframe tbody tr th:only-of-type {\n",
       "        vertical-align: middle;\n",
       "    }\n",
       "\n",
       "    .dataframe tbody tr th {\n",
       "        vertical-align: top;\n",
       "    }\n",
       "\n",
       "    .dataframe thead th {\n",
       "        text-align: right;\n",
       "    }\n",
       "</style>\n",
       "<table border=\"1\" class=\"dataframe\">\n",
       "  <thead>\n",
       "    <tr style=\"text-align: right;\">\n",
       "      <th></th>\n",
       "      <th>Sweetness</th>\n",
       "      <th>Calories</th>\n",
       "      <th>Content</th>\n",
       "    </tr>\n",
       "  </thead>\n",
       "  <tbody>\n",
       "    <tr>\n",
       "      <td>0</td>\n",
       "      <td>Sweetened</td>\n",
       "      <td>Below 150 calories</td>\n",
       "      <td>Dairy-Free</td>\n",
       "    </tr>\n",
       "    <tr>\n",
       "      <td>1</td>\n",
       "      <td>Unsweetened</td>\n",
       "      <td>Below 150 calories</td>\n",
       "      <td>Dairy-Free</td>\n",
       "    </tr>\n",
       "    <tr>\n",
       "      <td>2</td>\n",
       "      <td>Sweetened</td>\n",
       "      <td>At or above 150 calories</td>\n",
       "      <td>Dairy-Free</td>\n",
       "    </tr>\n",
       "    <tr>\n",
       "      <td>3</td>\n",
       "      <td>Sweetened</td>\n",
       "      <td>At or above 150 calories</td>\n",
       "      <td>Dairy</td>\n",
       "    </tr>\n",
       "    <tr>\n",
       "      <td>4</td>\n",
       "      <td>Unsweetened</td>\n",
       "      <td>At or above 150 calories</td>\n",
       "      <td>Dairy</td>\n",
       "    </tr>\n",
       "    <tr>\n",
       "      <td>5</td>\n",
       "      <td>Unsweetened</td>\n",
       "      <td>Below 150 calories</td>\n",
       "      <td>Dairy</td>\n",
       "    </tr>\n",
       "    <tr>\n",
       "      <td>6</td>\n",
       "      <td>Unsweetened</td>\n",
       "      <td>At or above 150 calories</td>\n",
       "      <td>Dairy-Free</td>\n",
       "    </tr>\n",
       "    <tr>\n",
       "      <td>7</td>\n",
       "      <td>Sweetened</td>\n",
       "      <td>Below 150 calories</td>\n",
       "      <td>Dairy</td>\n",
       "    </tr>\n",
       "  </tbody>\n",
       "</table>\n",
       "</div>"
      ],
      "text/plain": [
       "     Sweetness                  Calories     Content\n",
       "0    Sweetened        Below 150 calories  Dairy-Free\n",
       "1  Unsweetened        Below 150 calories  Dairy-Free\n",
       "2    Sweetened  At or above 150 calories  Dairy-Free\n",
       "3    Sweetened  At or above 150 calories       Dairy\n",
       "4  Unsweetened  At or above 150 calories       Dairy\n",
       "5  Unsweetened        Below 150 calories       Dairy\n",
       "6  Unsweetened  At or above 150 calories  Dairy-Free\n",
       "7    Sweetened        Below 150 calories       Dairy"
      ]
     },
     "execution_count": 101,
     "metadata": {},
     "output_type": "execute_result"
    }
   ],
   "source": [
    "# Use the designer script to find a matching design.\n",
    "design = designer.get_design(attributes)\n",
    "design"
   ]
  },
  {
   "cell_type": "markdown",
   "metadata": {},
   "source": [
    "### Parts 2 & 3: Write and administer the survey\n",
    "**Task 2:** When you are done administering the survey:\n",
    "- download CSV from qualtrics\n",
    "- rename the file `survey.csv` and upload it here, and\n",
    "- read the CSV file in as a pandas data frame called `raw_survey_results`."
   ]
  },
  {
   "cell_type": "code",
   "execution_count": 102,
   "metadata": {},
   "outputs": [],
   "source": [
    "import pandas as pd\n",
    "import numpy as np"
   ]
  },
  {
   "cell_type": "code",
   "execution_count": 103,
   "metadata": {},
   "outputs": [],
   "source": [
    "raw_survey_results = pd.read_csv('survey.csv', header=1)"
   ]
  },
  {
   "cell_type": "markdown",
   "metadata": {},
   "source": [
    "**Task 3:** Clean the data in preparation for analysis; name the clean data frame `clean_survey_results`.  You may need to do some or all of the following:\n",
    "- remove rows and/or columns\n",
    "- rename columns\n",
    "- melt the data\n",
    "- merge the data with the design data frame you created previously\n",
    "The final data frame should have one row per rating with the following columns:\n",
    "- some kind of respondent identifier to distinguish individuals\n",
    "- the rating (1-7)\n",
    "- one column for each attribute"
   ]
  },
  {
   "cell_type": "code",
   "execution_count": 104,
   "metadata": {},
   "outputs": [
    {
     "data": {
      "text/html": [
       "<div>\n",
       "<style scoped>\n",
       "    .dataframe tbody tr th:only-of-type {\n",
       "        vertical-align: middle;\n",
       "    }\n",
       "\n",
       "    .dataframe tbody tr th {\n",
       "        vertical-align: top;\n",
       "    }\n",
       "\n",
       "    .dataframe thead th {\n",
       "        text-align: right;\n",
       "    }\n",
       "</style>\n",
       "<table border=\"1\" class=\"dataframe\">\n",
       "  <thead>\n",
       "    <tr style=\"text-align: right;\">\n",
       "      <th></th>\n",
       "      <th>product</th>\n",
       "      <th>Sweetness</th>\n",
       "      <th>Calories</th>\n",
       "      <th>Content</th>\n",
       "    </tr>\n",
       "  </thead>\n",
       "  <tbody>\n",
       "    <tr>\n",
       "      <td>0</td>\n",
       "      <td>4</td>\n",
       "      <td>Sweetened</td>\n",
       "      <td>At or above 150 calories</td>\n",
       "      <td>Dairy</td>\n",
       "    </tr>\n",
       "    <tr>\n",
       "      <td>1</td>\n",
       "      <td>5</td>\n",
       "      <td>Unsweetened</td>\n",
       "      <td>At or above 150 calories</td>\n",
       "      <td>Dairy</td>\n",
       "    </tr>\n",
       "    <tr>\n",
       "      <td>2</td>\n",
       "      <td>8</td>\n",
       "      <td>Sweetened</td>\n",
       "      <td>Below 150 calories</td>\n",
       "      <td>Dairy</td>\n",
       "    </tr>\n",
       "    <tr>\n",
       "      <td>3</td>\n",
       "      <td>6</td>\n",
       "      <td>Unsweetened</td>\n",
       "      <td>Below 150 calories</td>\n",
       "      <td>Dairy</td>\n",
       "    </tr>\n",
       "    <tr>\n",
       "      <td>4</td>\n",
       "      <td>3</td>\n",
       "      <td>Sweetened</td>\n",
       "      <td>At or above 150 calories</td>\n",
       "      <td>Dairy-Free</td>\n",
       "    </tr>\n",
       "    <tr>\n",
       "      <td>5</td>\n",
       "      <td>7</td>\n",
       "      <td>Unsweetened</td>\n",
       "      <td>At or above 150 calories</td>\n",
       "      <td>Dairy-Free</td>\n",
       "    </tr>\n",
       "    <tr>\n",
       "      <td>6</td>\n",
       "      <td>1</td>\n",
       "      <td>Sweetened</td>\n",
       "      <td>Below 150 calories</td>\n",
       "      <td>Dairy-Free</td>\n",
       "    </tr>\n",
       "    <tr>\n",
       "      <td>7</td>\n",
       "      <td>2</td>\n",
       "      <td>Unsweetened</td>\n",
       "      <td>Below 150 calories</td>\n",
       "      <td>Dairy-Free</td>\n",
       "    </tr>\n",
       "  </tbody>\n",
       "</table>\n",
       "</div>"
      ],
      "text/plain": [
       "  product    Sweetness                  Calories     Content\n",
       "0       4    Sweetened  At or above 150 calories       Dairy\n",
       "1       5  Unsweetened  At or above 150 calories       Dairy\n",
       "2       8    Sweetened        Below 150 calories       Dairy\n",
       "3       6  Unsweetened        Below 150 calories       Dairy\n",
       "4       3    Sweetened  At or above 150 calories  Dairy-Free\n",
       "5       7  Unsweetened  At or above 150 calories  Dairy-Free\n",
       "6       1    Sweetened        Below 150 calories  Dairy-Free\n",
       "7       2  Unsweetened        Below 150 calories  Dairy-Free"
      ]
     },
     "execution_count": 104,
     "metadata": {},
     "output_type": "execute_result"
    }
   ],
   "source": [
    "design = pd.DataFrame({\"product\": [\"4\",\"5\",\"8\",\"6\",\"3\",\"7\",\"1\",\"2\"],\n",
    "                       \"Sweetness\": [\"Sweetened\", \"Unsweetened\"]*4,\n",
    "                       \"Calories\": ([\"At or above 150 calories\"]*2 + [\"Below 150 calories\"]*2)*2,\n",
    "                       \"Content\": [\"Dairy\"]*4 + [\"Dairy-Free\"]*4})\n",
    "design"
   ]
  },
  {
   "cell_type": "code",
   "execution_count": 105,
   "metadata": {},
   "outputs": [
    {
     "data": {
      "text/html": [
       "<div>\n",
       "<style scoped>\n",
       "    .dataframe tbody tr th:only-of-type {\n",
       "        vertical-align: middle;\n",
       "    }\n",
       "\n",
       "    .dataframe tbody tr th {\n",
       "        vertical-align: top;\n",
       "    }\n",
       "\n",
       "    .dataframe thead th {\n",
       "        text-align: right;\n",
       "    }\n",
       "</style>\n",
       "<table border=\"1\" class=\"dataframe\">\n",
       "  <thead>\n",
       "    <tr style=\"text-align: right;\">\n",
       "      <th></th>\n",
       "      <th>Response ID</th>\n",
       "      <th>rating</th>\n",
       "      <th>Sweetness</th>\n",
       "      <th>Calories</th>\n",
       "      <th>Content</th>\n",
       "    </tr>\n",
       "  </thead>\n",
       "  <tbody>\n",
       "    <tr>\n",
       "      <td>0</td>\n",
       "      <td>R_1IsB3PNLcjYqD02</td>\n",
       "      <td>6</td>\n",
       "      <td>Sweetened</td>\n",
       "      <td>Below 150 calories</td>\n",
       "      <td>Dairy-Free</td>\n",
       "    </tr>\n",
       "    <tr>\n",
       "      <td>1</td>\n",
       "      <td>R_2e3wgG9rBSeeVw6</td>\n",
       "      <td>4</td>\n",
       "      <td>Sweetened</td>\n",
       "      <td>Below 150 calories</td>\n",
       "      <td>Dairy-Free</td>\n",
       "    </tr>\n",
       "    <tr>\n",
       "      <td>2</td>\n",
       "      <td>R_b2AcnlhQNWMUnnP</td>\n",
       "      <td>5</td>\n",
       "      <td>Sweetened</td>\n",
       "      <td>Below 150 calories</td>\n",
       "      <td>Dairy-Free</td>\n",
       "    </tr>\n",
       "    <tr>\n",
       "      <td>3</td>\n",
       "      <td>R_bHHJubcRm6pTW9P</td>\n",
       "      <td>6</td>\n",
       "      <td>Sweetened</td>\n",
       "      <td>Below 150 calories</td>\n",
       "      <td>Dairy-Free</td>\n",
       "    </tr>\n",
       "    <tr>\n",
       "      <td>4</td>\n",
       "      <td>R_27xlnwb0Uhjkrdo</td>\n",
       "      <td>7</td>\n",
       "      <td>Sweetened</td>\n",
       "      <td>Below 150 calories</td>\n",
       "      <td>Dairy-Free</td>\n",
       "    </tr>\n",
       "    <tr>\n",
       "      <td>...</td>\n",
       "      <td>...</td>\n",
       "      <td>...</td>\n",
       "      <td>...</td>\n",
       "      <td>...</td>\n",
       "      <td>...</td>\n",
       "    </tr>\n",
       "    <tr>\n",
       "      <td>163</td>\n",
       "      <td>R_1eKMGlrfeAhMlxQ</td>\n",
       "      <td>5</td>\n",
       "      <td>Sweetened</td>\n",
       "      <td>Below 150 calories</td>\n",
       "      <td>Dairy</td>\n",
       "    </tr>\n",
       "    <tr>\n",
       "      <td>164</td>\n",
       "      <td>R_24Ga7VdVQFJSvoR</td>\n",
       "      <td>6</td>\n",
       "      <td>Sweetened</td>\n",
       "      <td>Below 150 calories</td>\n",
       "      <td>Dairy</td>\n",
       "    </tr>\n",
       "    <tr>\n",
       "      <td>165</td>\n",
       "      <td>R_6zCJ1hFMS9Ct3TH</td>\n",
       "      <td>5</td>\n",
       "      <td>Sweetened</td>\n",
       "      <td>Below 150 calories</td>\n",
       "      <td>Dairy</td>\n",
       "    </tr>\n",
       "    <tr>\n",
       "      <td>166</td>\n",
       "      <td>R_1gdyx6St1m0Sqgv</td>\n",
       "      <td>6</td>\n",
       "      <td>Sweetened</td>\n",
       "      <td>Below 150 calories</td>\n",
       "      <td>Dairy</td>\n",
       "    </tr>\n",
       "    <tr>\n",
       "      <td>167</td>\n",
       "      <td>R_bjRlXmiz0QqPRv3</td>\n",
       "      <td>4</td>\n",
       "      <td>Sweetened</td>\n",
       "      <td>Below 150 calories</td>\n",
       "      <td>Dairy</td>\n",
       "    </tr>\n",
       "  </tbody>\n",
       "</table>\n",
       "<p>168 rows × 5 columns</p>\n",
       "</div>"
      ],
      "text/plain": [
       "           Response ID rating  Sweetness            Calories     Content\n",
       "0    R_1IsB3PNLcjYqD02      6  Sweetened  Below 150 calories  Dairy-Free\n",
       "1    R_2e3wgG9rBSeeVw6      4  Sweetened  Below 150 calories  Dairy-Free\n",
       "2    R_b2AcnlhQNWMUnnP      5  Sweetened  Below 150 calories  Dairy-Free\n",
       "3    R_bHHJubcRm6pTW9P      6  Sweetened  Below 150 calories  Dairy-Free\n",
       "4    R_27xlnwb0Uhjkrdo      7  Sweetened  Below 150 calories  Dairy-Free\n",
       "..                 ...    ...        ...                 ...         ...\n",
       "163  R_1eKMGlrfeAhMlxQ      5  Sweetened  Below 150 calories       Dairy\n",
       "164  R_24Ga7VdVQFJSvoR      6  Sweetened  Below 150 calories       Dairy\n",
       "165  R_6zCJ1hFMS9Ct3TH      5  Sweetened  Below 150 calories       Dairy\n",
       "166  R_1gdyx6St1m0Sqgv      6  Sweetened  Below 150 calories       Dairy\n",
       "167  R_bjRlXmiz0QqPRv3      4  Sweetened  Below 150 calories       Dairy\n",
       "\n",
       "[168 rows x 5 columns]"
      ]
     },
     "execution_count": 105,
     "metadata": {},
     "output_type": "execute_result"
    }
   ],
   "source": [
    "clean_survey_results = raw_survey_results.drop(raw_survey_results.index[0])\n",
    "clean_survey_results = clean_survey_results.drop(clean_survey_results.columns[0:8], axis=1)\n",
    "clean_survey_results = clean_survey_results.drop(clean_survey_results.columns[1:9], axis=1)\n",
    "clean_survey_results.columns = ['Response ID'] +([str(i) for i in range(1,9)])\n",
    "clean_survey_results = clean_survey_results.replace(np.nan, '1', regex=True)\n",
    "clean_survey_results = pd.melt(clean_survey_results, id_vars = ['Response ID'], \n",
    "                               var_name='product', value_name='rating')\n",
    "clean_survey_results = clean_survey_results.merge(design, on='product')\n",
    "clean_survey_results = clean_survey_results.drop('product', axis=1)\n",
    "clean_survey_results"
   ]
  },
  {
   "cell_type": "markdown",
   "metadata": {},
   "source": [
    "**Task 4:** Introduce dummy variables in preparation for anlaysis.  Now, for each attribute, there should be the number of levels minus one.  (The intercept captures the \"default\" level, and the part-worths for all other levels will be measured relative to the default utility.)"
   ]
  },
  {
   "cell_type": "code",
   "execution_count": 106,
   "metadata": {},
   "outputs": [
    {
     "data": {
      "text/html": [
       "<div>\n",
       "<style scoped>\n",
       "    .dataframe tbody tr th:only-of-type {\n",
       "        vertical-align: middle;\n",
       "    }\n",
       "\n",
       "    .dataframe tbody tr th {\n",
       "        vertical-align: top;\n",
       "    }\n",
       "\n",
       "    .dataframe thead th {\n",
       "        text-align: right;\n",
       "    }\n",
       "</style>\n",
       "<table border=\"1\" class=\"dataframe\">\n",
       "  <thead>\n",
       "    <tr style=\"text-align: right;\">\n",
       "      <th></th>\n",
       "      <th>Response ID</th>\n",
       "      <th>rating</th>\n",
       "      <th>Sweetness_alt</th>\n",
       "      <th>Calories_alt</th>\n",
       "      <th>Content_alt</th>\n",
       "    </tr>\n",
       "  </thead>\n",
       "  <tbody>\n",
       "    <tr>\n",
       "      <td>0</td>\n",
       "      <td>R_1IsB3PNLcjYqD02</td>\n",
       "      <td>6</td>\n",
       "      <td>True</td>\n",
       "      <td>True</td>\n",
       "      <td>False</td>\n",
       "    </tr>\n",
       "    <tr>\n",
       "      <td>1</td>\n",
       "      <td>R_2e3wgG9rBSeeVw6</td>\n",
       "      <td>4</td>\n",
       "      <td>True</td>\n",
       "      <td>True</td>\n",
       "      <td>False</td>\n",
       "    </tr>\n",
       "    <tr>\n",
       "      <td>2</td>\n",
       "      <td>R_b2AcnlhQNWMUnnP</td>\n",
       "      <td>5</td>\n",
       "      <td>True</td>\n",
       "      <td>True</td>\n",
       "      <td>False</td>\n",
       "    </tr>\n",
       "    <tr>\n",
       "      <td>3</td>\n",
       "      <td>R_bHHJubcRm6pTW9P</td>\n",
       "      <td>6</td>\n",
       "      <td>True</td>\n",
       "      <td>True</td>\n",
       "      <td>False</td>\n",
       "    </tr>\n",
       "    <tr>\n",
       "      <td>4</td>\n",
       "      <td>R_27xlnwb0Uhjkrdo</td>\n",
       "      <td>7</td>\n",
       "      <td>True</td>\n",
       "      <td>True</td>\n",
       "      <td>False</td>\n",
       "    </tr>\n",
       "  </tbody>\n",
       "</table>\n",
       "</div>"
      ],
      "text/plain": [
       "         Response ID rating  Sweetness_alt  Calories_alt  Content_alt\n",
       "0  R_1IsB3PNLcjYqD02      6           True          True        False\n",
       "1  R_2e3wgG9rBSeeVw6      4           True          True        False\n",
       "2  R_b2AcnlhQNWMUnnP      5           True          True        False\n",
       "3  R_bHHJubcRm6pTW9P      6           True          True        False\n",
       "4  R_27xlnwb0Uhjkrdo      7           True          True        False"
      ]
     },
     "execution_count": 106,
     "metadata": {},
     "output_type": "execute_result"
    }
   ],
   "source": [
    "data = clean_survey_results\n",
    "data['Sweetness_alt'] = data['Sweetness'] == \"Sweetened\"\n",
    "data['Calories_alt'] = data['Calories'] == \"Below 150 calories\"\n",
    "data['Content_alt'] = data['Content'] == \"Dairy\"\n",
    "data = data.drop(['Sweetness', 'Calories', 'Content'], axis=1)\n",
    "data.head(5)"
   ]
  },
  {
   "cell_type": "markdown",
   "metadata": {},
   "source": [
    "### Part 4: Estimate the average and individual part-worths\n",
    "\n",
    "You will use [sklearn's implementation of linear regression](https://scikit-learn.org/stable/modules/generated/sklearn.linear_model.LinearRegression.html) to estimate part-worths."
   ]
  },
  {
   "cell_type": "code",
   "execution_count": 107,
   "metadata": {},
   "outputs": [],
   "source": [
    "import numpy as np\n",
    "from sklearn.linear_model import LinearRegression"
   ]
  },
  {
   "cell_type": "markdown",
   "metadata": {},
   "source": [
    "**Task 5:** Compute the average part-worths by:\n",
    "- splitting the data into `y` (the response/rating) and `X` (the explanatory variables/attribute levels), and\n",
    "- Run a linear regression to estimate intercept and coefficients."
   ]
  },
  {
   "cell_type": "code",
   "execution_count": 108,
   "metadata": {},
   "outputs": [],
   "source": [
    "x=np.array(data.iloc[:,2:5])\n",
    "y=np.array(data.iloc[:,1])"
   ]
  },
  {
   "cell_type": "code",
   "execution_count": 109,
   "metadata": {},
   "outputs": [
    {
     "name": "stdout",
     "output_type": "stream",
     "text": [
      "coefficient of determination: 0.14932496931678696\n",
      "intercept: 3.023809523809524\n",
      "slope: [0.66666667 1.19047619 0.02380952]\n"
     ]
    }
   ],
   "source": [
    "model = LinearRegression().fit(x, y)\n",
    "r_sq = model.score(x, y)\n",
    "print('coefficient of determination:',r_sq)\n",
    "print('intercept:', model.intercept_)\n",
    "print('slope:', model.coef_)"
   ]
  },
  {
   "cell_type": "code",
   "execution_count": 110,
   "metadata": {},
   "outputs": [
    {
     "data": {
      "text/plain": [
       "[0, 0.6666666666666669]"
      ]
     },
     "execution_count": 110,
     "metadata": {},
     "output_type": "execute_result"
    }
   ],
   "source": [
    "[0, model.coef_[0]]"
   ]
  },
  {
   "cell_type": "markdown",
   "metadata": {},
   "source": [
    "**Task 6:** Calculate the importance of each attribute by doing the following steps.\n",
    "1. Compute the part-worth range for each attribute. \n",
    "2. Calculate the total range, summing the ranges over each attribute.\n",
    "3. Calculate the importance for a single attribute as the range for that attribute over the total range."
   ]
  },
  {
   "cell_type": "code",
   "execution_count": 111,
   "metadata": {},
   "outputs": [
    {
     "data": {
      "text/plain": [
       "array([0.35443038, 0.63291139, 0.01265823])"
      ]
     },
     "execution_count": 111,
     "metadata": {},
     "output_type": "execute_result"
    }
   ],
   "source": [
    "sweetness_partworths = [0, model.coef_[0]]\n",
    "range_sweetness = max(sweetness_partworths) - min(sweetness_partworths)\n",
    "\n",
    "calorie_partworths = [0, model.coef_[1]]\n",
    "range_calorie = max(calorie_partworths) - min(calorie_partworths)\n",
    "\n",
    "dairy_partworths = [0, model.coef_[2]]\n",
    "range_dairy = max(dairy_partworths) - min(dairy_partworths)\n",
    "\n",
    "# sum all ranges\n",
    "all_ranges = [range_sweetness, range_calorie, range_dairy]\n",
    "all_ranges\n",
    "sum(all_ranges)\n",
    "\n",
    "# calculate importance\n",
    "all_ranges / sum(all_ranges)"
   ]
  },
  {
   "cell_type": "markdown",
   "metadata": {},
   "source": [
    "**Task 7:** Now calculate individual part-worths.  You will do this by dividing up the data by individual respondent and running one regression for each respondent.  You should write a loop to iterate over all the respondents instead of doing each one manually.\n",
    "\n",
    "You will want to create a data frame called `individual_part_worths` that has one row per individual respondent; the columns should be the respondent identifier, the intercept of the regression, and all the coefficients of the regression."
   ]
  },
  {
   "cell_type": "code",
   "execution_count": 127,
   "metadata": {},
   "outputs": [
    {
     "data": {
      "text/html": [
       "<div>\n",
       "<style scoped>\n",
       "    .dataframe tbody tr th:only-of-type {\n",
       "        vertical-align: middle;\n",
       "    }\n",
       "\n",
       "    .dataframe tbody tr th {\n",
       "        vertical-align: top;\n",
       "    }\n",
       "\n",
       "    .dataframe thead th {\n",
       "        text-align: right;\n",
       "    }\n",
       "</style>\n",
       "<table border=\"1\" class=\"dataframe\">\n",
       "  <thead>\n",
       "    <tr style=\"text-align: right;\">\n",
       "      <th></th>\n",
       "      <th>Respondent Identifier</th>\n",
       "      <th>Intercept</th>\n",
       "      <th>Sweetened</th>\n",
       "      <th>Below 150 calories</th>\n",
       "      <th>Dairy</th>\n",
       "    </tr>\n",
       "  </thead>\n",
       "  <tbody>\n",
       "    <tr>\n",
       "      <td>0</td>\n",
       "      <td>R_1IsB3PNLcjYqD02</td>\n",
       "      <td>4.50</td>\n",
       "      <td>2.500000e+00</td>\n",
       "      <td>-5.000000e-01</td>\n",
       "      <td>-5.000000e-01</td>\n",
       "    </tr>\n",
       "    <tr>\n",
       "      <td>1</td>\n",
       "      <td>R_2e3wgG9rBSeeVw6</td>\n",
       "      <td>2.25</td>\n",
       "      <td>1.500000e+00</td>\n",
       "      <td>5.000000e-01</td>\n",
       "      <td>-5.000000e-01</td>\n",
       "    </tr>\n",
       "    <tr>\n",
       "      <td>2</td>\n",
       "      <td>R_b2AcnlhQNWMUnnP</td>\n",
       "      <td>2.75</td>\n",
       "      <td>2.250000e+00</td>\n",
       "      <td>-2.500000e-01</td>\n",
       "      <td>1.750000e+00</td>\n",
       "    </tr>\n",
       "    <tr>\n",
       "      <td>3</td>\n",
       "      <td>R_bHHJubcRm6pTW9P</td>\n",
       "      <td>3.50</td>\n",
       "      <td>2.000000e+00</td>\n",
       "      <td>1.000000e+00</td>\n",
       "      <td>5.000000e-01</td>\n",
       "    </tr>\n",
       "    <tr>\n",
       "      <td>4</td>\n",
       "      <td>R_27xlnwb0Uhjkrdo</td>\n",
       "      <td>3.75</td>\n",
       "      <td>5.000000e-01</td>\n",
       "      <td>2.000000e+00</td>\n",
       "      <td>-2.500000e+00</td>\n",
       "    </tr>\n",
       "    <tr>\n",
       "      <td>5</td>\n",
       "      <td>R_3qySICziB2wS3io</td>\n",
       "      <td>1.00</td>\n",
       "      <td>2.000000e+00</td>\n",
       "      <td>5.551115e-17</td>\n",
       "      <td>5.000000e-01</td>\n",
       "    </tr>\n",
       "    <tr>\n",
       "      <td>6</td>\n",
       "      <td>R_O3SvzWexUxuseMF</td>\n",
       "      <td>3.00</td>\n",
       "      <td>1.000000e+00</td>\n",
       "      <td>2.000000e+00</td>\n",
       "      <td>6.661338e-16</td>\n",
       "    </tr>\n",
       "    <tr>\n",
       "      <td>7</td>\n",
       "      <td>R_1PRijnrV1KPLdyr</td>\n",
       "      <td>3.00</td>\n",
       "      <td>-7.500000e-01</td>\n",
       "      <td>2.750000e+00</td>\n",
       "      <td>-1.750000e+00</td>\n",
       "    </tr>\n",
       "    <tr>\n",
       "      <td>8</td>\n",
       "      <td>R_9mqpURV2KEAuugV</td>\n",
       "      <td>4.25</td>\n",
       "      <td>-2.750000e+00</td>\n",
       "      <td>1.250000e+00</td>\n",
       "      <td>2.500000e-01</td>\n",
       "    </tr>\n",
       "    <tr>\n",
       "      <td>9</td>\n",
       "      <td>R_2Br2VL5krkXR6fo</td>\n",
       "      <td>1.50</td>\n",
       "      <td>1.177569e-16</td>\n",
       "      <td>3.000000e+00</td>\n",
       "      <td>1.000000e+00</td>\n",
       "    </tr>\n",
       "    <tr>\n",
       "      <td>10</td>\n",
       "      <td>R_2PjmrjEKbhL5sNO</td>\n",
       "      <td>4.50</td>\n",
       "      <td>-3.000000e+00</td>\n",
       "      <td>1.000000e+00</td>\n",
       "      <td>-3.330669e-16</td>\n",
       "    </tr>\n",
       "    <tr>\n",
       "      <td>11</td>\n",
       "      <td>R_2dTkEzxJiZqXJYp</td>\n",
       "      <td>4.50</td>\n",
       "      <td>-5.000000e-01</td>\n",
       "      <td>1.500000e+00</td>\n",
       "      <td>-1.500000e+00</td>\n",
       "    </tr>\n",
       "    <tr>\n",
       "      <td>12</td>\n",
       "      <td>R_3rMXd3Z9oLLKcGy</td>\n",
       "      <td>3.25</td>\n",
       "      <td>2.250000e+00</td>\n",
       "      <td>1.250000e+00</td>\n",
       "      <td>-7.500000e-01</td>\n",
       "    </tr>\n",
       "    <tr>\n",
       "      <td>13</td>\n",
       "      <td>R_2aJmhtaWDGdfQUs</td>\n",
       "      <td>3.25</td>\n",
       "      <td>-1.500000e+00</td>\n",
       "      <td>2.500000e+00</td>\n",
       "      <td>1.500000e+00</td>\n",
       "    </tr>\n",
       "    <tr>\n",
       "      <td>14</td>\n",
       "      <td>R_1IsorMdHfqq7wV9</td>\n",
       "      <td>1.00</td>\n",
       "      <td>6.000000e+00</td>\n",
       "      <td>-3.140185e-16</td>\n",
       "      <td>3.140185e-16</td>\n",
       "    </tr>\n",
       "    <tr>\n",
       "      <td>15</td>\n",
       "      <td>R_1oG38J4zyRaTHqI</td>\n",
       "      <td>4.25</td>\n",
       "      <td>2.500000e-01</td>\n",
       "      <td>1.250000e+00</td>\n",
       "      <td>-7.500000e-01</td>\n",
       "    </tr>\n",
       "    <tr>\n",
       "      <td>16</td>\n",
       "      <td>R_1eKMGlrfeAhMlxQ</td>\n",
       "      <td>1.75</td>\n",
       "      <td>2.500000e+00</td>\n",
       "      <td>-2.220446e-16</td>\n",
       "      <td>5.000000e-01</td>\n",
       "    </tr>\n",
       "    <tr>\n",
       "      <td>17</td>\n",
       "      <td>R_24Ga7VdVQFJSvoR</td>\n",
       "      <td>4.25</td>\n",
       "      <td>-1.750000e+00</td>\n",
       "      <td>2.250000e+00</td>\n",
       "      <td>7.500000e-01</td>\n",
       "    </tr>\n",
       "    <tr>\n",
       "      <td>18</td>\n",
       "      <td>R_6zCJ1hFMS9Ct3TH</td>\n",
       "      <td>3.25</td>\n",
       "      <td>1.000000e+00</td>\n",
       "      <td>1.000000e+00</td>\n",
       "      <td>5.000000e-01</td>\n",
       "    </tr>\n",
       "    <tr>\n",
       "      <td>19</td>\n",
       "      <td>R_1gdyx6St1m0Sqgv</td>\n",
       "      <td>2.75</td>\n",
       "      <td>1.750000e+00</td>\n",
       "      <td>7.500000e-01</td>\n",
       "      <td>-2.500000e-01</td>\n",
       "    </tr>\n",
       "    <tr>\n",
       "      <td>20</td>\n",
       "      <td>R_bjRlXmiz0QqPRv3</td>\n",
       "      <td>1.25</td>\n",
       "      <td>-1.250000e+00</td>\n",
       "      <td>1.750000e+00</td>\n",
       "      <td>1.750000e+00</td>\n",
       "    </tr>\n",
       "  </tbody>\n",
       "</table>\n",
       "</div>"
      ],
      "text/plain": [
       "   Respondent Identifier  Intercept     Sweetened  Below 150 calories  \\\n",
       "0      R_1IsB3PNLcjYqD02       4.50  2.500000e+00       -5.000000e-01   \n",
       "1      R_2e3wgG9rBSeeVw6       2.25  1.500000e+00        5.000000e-01   \n",
       "2      R_b2AcnlhQNWMUnnP       2.75  2.250000e+00       -2.500000e-01   \n",
       "3      R_bHHJubcRm6pTW9P       3.50  2.000000e+00        1.000000e+00   \n",
       "4      R_27xlnwb0Uhjkrdo       3.75  5.000000e-01        2.000000e+00   \n",
       "5      R_3qySICziB2wS3io       1.00  2.000000e+00        5.551115e-17   \n",
       "6      R_O3SvzWexUxuseMF       3.00  1.000000e+00        2.000000e+00   \n",
       "7      R_1PRijnrV1KPLdyr       3.00 -7.500000e-01        2.750000e+00   \n",
       "8      R_9mqpURV2KEAuugV       4.25 -2.750000e+00        1.250000e+00   \n",
       "9      R_2Br2VL5krkXR6fo       1.50  1.177569e-16        3.000000e+00   \n",
       "10     R_2PjmrjEKbhL5sNO       4.50 -3.000000e+00        1.000000e+00   \n",
       "11     R_2dTkEzxJiZqXJYp       4.50 -5.000000e-01        1.500000e+00   \n",
       "12     R_3rMXd3Z9oLLKcGy       3.25  2.250000e+00        1.250000e+00   \n",
       "13     R_2aJmhtaWDGdfQUs       3.25 -1.500000e+00        2.500000e+00   \n",
       "14     R_1IsorMdHfqq7wV9       1.00  6.000000e+00       -3.140185e-16   \n",
       "15     R_1oG38J4zyRaTHqI       4.25  2.500000e-01        1.250000e+00   \n",
       "16     R_1eKMGlrfeAhMlxQ       1.75  2.500000e+00       -2.220446e-16   \n",
       "17     R_24Ga7VdVQFJSvoR       4.25 -1.750000e+00        2.250000e+00   \n",
       "18     R_6zCJ1hFMS9Ct3TH       3.25  1.000000e+00        1.000000e+00   \n",
       "19     R_1gdyx6St1m0Sqgv       2.75  1.750000e+00        7.500000e-01   \n",
       "20     R_bjRlXmiz0QqPRv3       1.25 -1.250000e+00        1.750000e+00   \n",
       "\n",
       "           Dairy  \n",
       "0  -5.000000e-01  \n",
       "1  -5.000000e-01  \n",
       "2   1.750000e+00  \n",
       "3   5.000000e-01  \n",
       "4  -2.500000e+00  \n",
       "5   5.000000e-01  \n",
       "6   6.661338e-16  \n",
       "7  -1.750000e+00  \n",
       "8   2.500000e-01  \n",
       "9   1.000000e+00  \n",
       "10 -3.330669e-16  \n",
       "11 -1.500000e+00  \n",
       "12 -7.500000e-01  \n",
       "13  1.500000e+00  \n",
       "14  3.140185e-16  \n",
       "15 -7.500000e-01  \n",
       "16  5.000000e-01  \n",
       "17  7.500000e-01  \n",
       "18  5.000000e-01  \n",
       "19 -2.500000e-01  \n",
       "20  1.750000e+00  "
      ]
     },
     "execution_count": 127,
     "metadata": {},
     "output_type": "execute_result"
    }
   ],
   "source": [
    "res=[]\n",
    "inter=[]\n",
    "coef=[]\n",
    "for id in data['Response ID'].unique():\n",
    "        c=data[data['Response ID'] == id]\n",
    "        x=np.array(c.iloc[:,2:5])\n",
    "        y=np.array(c.iloc[:,1])\n",
    "        model = LinearRegression().fit(x, y)\n",
    "        r_sq = model.score(x, y)\n",
    "        res.append(id)\n",
    "        inter.append(model.intercept_)\n",
    "        coef.append(model.coef_)\n",
    "data1={'Respondent Identifier':res,'Intercept':inter,'Coefficient':coef}\n",
    "df1=pd.DataFrame(data1)\n",
    "sweet=[]\n",
    "calorie=[]\n",
    "dairy=[]\n",
    "for i in range(len(df1.index)):\n",
    "    a=df1['Coefficient'][i][0]\n",
    "    b=df1['Coefficient'][i][1]\n",
    "    c=df1['Coefficient'][i][2]\n",
    "    sweet.append(a)\n",
    "    calorie.append(b)\n",
    "    dairy.append(c)\n",
    "df2 = pd.DataFrame({'Sweetened': sweet,'Below 150 calories':calorie,\"Dairy\":dairy})\n",
    "individual_part_worths = df1.join(df2)\n",
    "individual_part_worths=individual_part_worths.drop('Coefficient',axis=1)\n",
    "individual_part_worths"
   ]
  },
  {
   "cell_type": "markdown",
   "metadata": {},
   "source": [
    "**Task 8:** Create a visualization of the individual respondent coefficients and intercepts.  On the x axis should have categories for each of the level dummy variables and default; on the y-axis should be the part-worths (the values of the coefficients and the intercepts).  You should ploth both a summary of the part-worths (e.g., a violin plot, or box and whiskers) and the individual values."
   ]
  },
  {
   "cell_type": "code",
   "execution_count": 113,
   "metadata": {},
   "outputs": [],
   "source": [
    "df3=pd.melt(frame=individual_part_worths,value_vars=['Sweetened','Below 150 calories','Dairy','Intercept'])"
   ]
  },
  {
   "cell_type": "code",
   "execution_count": 114,
   "metadata": {},
   "outputs": [
    {
     "data": {
      "text/html": [
       "<div>\n",
       "<style scoped>\n",
       "    .dataframe tbody tr th:only-of-type {\n",
       "        vertical-align: middle;\n",
       "    }\n",
       "\n",
       "    .dataframe tbody tr th {\n",
       "        vertical-align: top;\n",
       "    }\n",
       "\n",
       "    .dataframe thead th {\n",
       "        text-align: right;\n",
       "    }\n",
       "</style>\n",
       "<table border=\"1\" class=\"dataframe\">\n",
       "  <thead>\n",
       "    <tr style=\"text-align: right;\">\n",
       "      <th></th>\n",
       "      <th>Respondent Identifier</th>\n",
       "      <th>Categories</th>\n",
       "      <th>Coefficient</th>\n",
       "    </tr>\n",
       "  </thead>\n",
       "  <tbody>\n",
       "    <tr>\n",
       "      <td>0</td>\n",
       "      <td>R_1IsB3PNLcjYqD02</td>\n",
       "      <td>Intercept</td>\n",
       "      <td>4.50</td>\n",
       "    </tr>\n",
       "    <tr>\n",
       "      <td>1</td>\n",
       "      <td>R_2e3wgG9rBSeeVw6</td>\n",
       "      <td>Intercept</td>\n",
       "      <td>2.25</td>\n",
       "    </tr>\n",
       "    <tr>\n",
       "      <td>2</td>\n",
       "      <td>R_b2AcnlhQNWMUnnP</td>\n",
       "      <td>Intercept</td>\n",
       "      <td>2.75</td>\n",
       "    </tr>\n",
       "    <tr>\n",
       "      <td>3</td>\n",
       "      <td>R_bHHJubcRm6pTW9P</td>\n",
       "      <td>Intercept</td>\n",
       "      <td>3.50</td>\n",
       "    </tr>\n",
       "    <tr>\n",
       "      <td>4</td>\n",
       "      <td>R_27xlnwb0Uhjkrdo</td>\n",
       "      <td>Intercept</td>\n",
       "      <td>3.75</td>\n",
       "    </tr>\n",
       "    <tr>\n",
       "      <td>...</td>\n",
       "      <td>...</td>\n",
       "      <td>...</td>\n",
       "      <td>...</td>\n",
       "    </tr>\n",
       "    <tr>\n",
       "      <td>79</td>\n",
       "      <td>R_1eKMGlrfeAhMlxQ</td>\n",
       "      <td>Dairy</td>\n",
       "      <td>0.50</td>\n",
       "    </tr>\n",
       "    <tr>\n",
       "      <td>80</td>\n",
       "      <td>R_24Ga7VdVQFJSvoR</td>\n",
       "      <td>Dairy</td>\n",
       "      <td>0.75</td>\n",
       "    </tr>\n",
       "    <tr>\n",
       "      <td>81</td>\n",
       "      <td>R_6zCJ1hFMS9Ct3TH</td>\n",
       "      <td>Dairy</td>\n",
       "      <td>0.50</td>\n",
       "    </tr>\n",
       "    <tr>\n",
       "      <td>82</td>\n",
       "      <td>R_1gdyx6St1m0Sqgv</td>\n",
       "      <td>Dairy</td>\n",
       "      <td>-0.25</td>\n",
       "    </tr>\n",
       "    <tr>\n",
       "      <td>83</td>\n",
       "      <td>R_bjRlXmiz0QqPRv3</td>\n",
       "      <td>Dairy</td>\n",
       "      <td>1.75</td>\n",
       "    </tr>\n",
       "  </tbody>\n",
       "</table>\n",
       "<p>84 rows × 3 columns</p>\n",
       "</div>"
      ],
      "text/plain": [
       "   Respondent Identifier Categories  Coefficient\n",
       "0      R_1IsB3PNLcjYqD02  Intercept         4.50\n",
       "1      R_2e3wgG9rBSeeVw6  Intercept         2.25\n",
       "2      R_b2AcnlhQNWMUnnP  Intercept         2.75\n",
       "3      R_bHHJubcRm6pTW9P  Intercept         3.50\n",
       "4      R_27xlnwb0Uhjkrdo  Intercept         3.75\n",
       "..                   ...        ...          ...\n",
       "79     R_1eKMGlrfeAhMlxQ      Dairy         0.50\n",
       "80     R_24Ga7VdVQFJSvoR      Dairy         0.75\n",
       "81     R_6zCJ1hFMS9Ct3TH      Dairy         0.50\n",
       "82     R_1gdyx6St1m0Sqgv      Dairy        -0.25\n",
       "83     R_bjRlXmiz0QqPRv3      Dairy         1.75\n",
       "\n",
       "[84 rows x 3 columns]"
      ]
     },
     "execution_count": 114,
     "metadata": {},
     "output_type": "execute_result"
    }
   ],
   "source": [
    "for_plot = individual_part_worths.melt(id_vars='Respondent Identifier', var_name='Categories', value_name='Coefficient')\n",
    "for_plot"
   ]
  },
  {
   "cell_type": "code",
   "execution_count": 115,
   "metadata": {},
   "outputs": [],
   "source": [
    "# Set up R, if desired for visualization\n",
    "import rpy2.ipython\n",
    "%reload_ext rpy2.ipython"
   ]
  },
  {
   "cell_type": "code",
   "execution_count": 116,
   "metadata": {},
   "outputs": [
    {
     "data": {
      "image/png": "[encoded data removed]"
     },
     "metadata": {},
     "output_type": "display_data"
    }
   ],
   "source": [
    "%%R -i df3\n",
    "library(ggplot2)\n",
    "ggplot(df3, aes(x=variable,y=value)) + geom_boxplot()+ geom_point() + theme_bw()"
   ]
  },
  {
   "cell_type": "code",
   "execution_count": 87,
   "metadata": {},
   "outputs": [],
   "source": [
    "%%R\n",
    "ggsave(\"plot.jpeg\", width=6.5, height=3)"
   ]
  },
  {
   "cell_type": "markdown",
   "metadata": {},
   "source": [
    "### Part 5: Simulate the Market\n",
    "**Task 9:** Write a function `utility` that takes two arguments:\n",
    "- `product`: a list of which level has been selected for each attribute.  For example, if the two attributes were color (with levels red and green) and shape (with levels round and square), then `product` could take the value `[\"red\", \"square\"]`.\n",
    "- `part_worths`: a row from the `individual_part_worths` data frame created for Task 6 (i.e., one individual's part-worths) .\n",
    "\n",
    "The `utility` function should compute and return the utility of the specified individual for the specified product; this is the intercept plus any relevant part-worths that correspond to the product's attribute levels."
   ]
  },
  {
   "cell_type": "code",
   "execution_count": 117,
   "metadata": {},
   "outputs": [
    {
     "data": {
      "text/plain": [
       "5.0"
      ]
     },
     "execution_count": 117,
     "metadata": {},
     "output_type": "execute_result"
    }
   ],
   "source": [
    "def utility(product,part_worths):\n",
    "    intercept=part_worths[1]\n",
    "    sweet=0\n",
    "    calorie=0\n",
    "    dairy=0\n",
    "    if product[0]==\"Unsweetened\":\n",
    "        sweet=part_worths[2]\n",
    "    if product[1]==\"At or above 150 calories\":\n",
    "        calorie=part_worths[3]\n",
    "    if product[2]==\"Dairy-Free\":\n",
    "        dairy=part_worths[4]\n",
    "    utility=intercept+sweet+calorie+dairy\n",
    "    return utility\n",
    "utility(['Unsweetened',\"Below 150 calories\",\"Dairy\"],individual_part_worths.iloc[2,:])"
   ]
  },
  {
   "cell_type": "markdown",
   "metadata": {},
   "source": [
    "**Task 10:** Write a function `choose_product` that takes two arguments:\n",
    "- `products`: a list of products, where each product is its own list as specified in Task 8, (Yes, it's a list of lists!)\n",
    "- `part_worths`: a row of inidivudual part worths, just as used in Task 8.\n",
    "\n",
    "This fuction should return a numpy array with the same length as the number of products; this array should contain a boolean value (true or false) for each product.  The value for a product should be true if it maximizes the utility for the individual; as multiple products can have equivalent utilities, more than one product might maximize utility.\n",
    "\n",
    "As an example, if there are two products, the `choose_product` function could return `[True, False]` if the first product maximizes the utility, `[False, True]` if the second product maximizes utility, or `[True, True]` if both products have the same utility and therefor both maximize utility for specified the individual."
   ]
  },
  {
   "cell_type": "code",
   "execution_count": 118,
   "metadata": {},
   "outputs": [],
   "source": [
    "def choose_product(products,part_worths):\n",
    "    max_utility = 0\n",
    "    utility_list = []\n",
    "    for line in range(0,len(products)):\n",
    "        u = utility(products[line],part_worths)\n",
    "        utility_list.append(u)\n",
    "        if u> max_utility:\n",
    "            max_utility = u\n",
    "    best = np.array(utility_list)\n",
    "    return best>=max_utility"
   ]
  },
  {
   "cell_type": "markdown",
   "metadata": {},
   "source": [
    "**Task 11:** Write a function `simulate` that takes two arguments:\n",
    "- `products`: a list of products, identitcal to the argument for Task 9.\n",
    "- The `individual_part_worths` data frame created for Task 7.\n",
    "\n",
    "This function should simulate the market share of the products by having each individual choose a product from the list.  For an individual who chooses more than one item (multiple items are tied for the top utility value), their \"vote\" is split between the tied items.  The function should return an array of proportions of market share.  "
   ]
  },
  {
   "cell_type": "code",
   "execution_count": 121,
   "metadata": {},
   "outputs": [
    {
     "data": {
      "text/plain": [
       "[['Sweetened', 'At or above 150 calories', 'Dairy'],\n",
       " ['Unsweetened', 'At or above 150 calories', 'Dairy'],\n",
       " ['Sweetened', 'Below 150 calories', 'Dairy'],\n",
       " ['Unsweetened', 'Below 150 calories', 'Dairy'],\n",
       " ['Sweetened', 'At or above 150 calories', 'Dairy-Free'],\n",
       " ['Unsweetened', 'At or above 150 calories', 'Dairy-Free'],\n",
       " ['Sweetened', 'Below 150 calories', 'Dairy-Free'],\n",
       " ['Unsweetened', 'Below 150 calories', 'Dairy-Free']]"
      ]
     },
     "execution_count": 121,
     "metadata": {},
     "output_type": "execute_result"
    }
   ],
   "source": [
    "d = design.drop(design.columns[0],axis=1)\n",
    "product_list = d.values.tolist()\n",
    "product_list"
   ]
  },
  {
   "cell_type": "code",
   "execution_count": 123,
   "metadata": {},
   "outputs": [
    {
     "data": {
      "text/html": [
       "<div>\n",
       "<style scoped>\n",
       "    .dataframe tbody tr th:only-of-type {\n",
       "        vertical-align: middle;\n",
       "    }\n",
       "\n",
       "    .dataframe tbody tr th {\n",
       "        vertical-align: top;\n",
       "    }\n",
       "\n",
       "    .dataframe thead th {\n",
       "        text-align: right;\n",
       "    }\n",
       "</style>\n",
       "<table border=\"1\" class=\"dataframe\">\n",
       "  <thead>\n",
       "    <tr style=\"text-align: right;\">\n",
       "      <th></th>\n",
       "      <th>product</th>\n",
       "      <th>Sweetness</th>\n",
       "      <th>Calories</th>\n",
       "      <th>Content</th>\n",
       "    </tr>\n",
       "  </thead>\n",
       "  <tbody>\n",
       "    <tr>\n",
       "      <td>0</td>\n",
       "      <td>4</td>\n",
       "      <td>Sweetened</td>\n",
       "      <td>At or above 150 calories</td>\n",
       "      <td>Dairy</td>\n",
       "    </tr>\n",
       "    <tr>\n",
       "      <td>1</td>\n",
       "      <td>5</td>\n",
       "      <td>Unsweetened</td>\n",
       "      <td>At or above 150 calories</td>\n",
       "      <td>Dairy</td>\n",
       "    </tr>\n",
       "    <tr>\n",
       "      <td>2</td>\n",
       "      <td>8</td>\n",
       "      <td>Sweetened</td>\n",
       "      <td>Below 150 calories</td>\n",
       "      <td>Dairy</td>\n",
       "    </tr>\n",
       "    <tr>\n",
       "      <td>3</td>\n",
       "      <td>6</td>\n",
       "      <td>Unsweetened</td>\n",
       "      <td>Below 150 calories</td>\n",
       "      <td>Dairy</td>\n",
       "    </tr>\n",
       "    <tr>\n",
       "      <td>4</td>\n",
       "      <td>3</td>\n",
       "      <td>Sweetened</td>\n",
       "      <td>At or above 150 calories</td>\n",
       "      <td>Dairy-Free</td>\n",
       "    </tr>\n",
       "    <tr>\n",
       "      <td>5</td>\n",
       "      <td>7</td>\n",
       "      <td>Unsweetened</td>\n",
       "      <td>At or above 150 calories</td>\n",
       "      <td>Dairy-Free</td>\n",
       "    </tr>\n",
       "    <tr>\n",
       "      <td>6</td>\n",
       "      <td>1</td>\n",
       "      <td>Sweetened</td>\n",
       "      <td>Below 150 calories</td>\n",
       "      <td>Dairy-Free</td>\n",
       "    </tr>\n",
       "    <tr>\n",
       "      <td>7</td>\n",
       "      <td>2</td>\n",
       "      <td>Unsweetened</td>\n",
       "      <td>Below 150 calories</td>\n",
       "      <td>Dairy-Free</td>\n",
       "    </tr>\n",
       "  </tbody>\n",
       "</table>\n",
       "</div>"
      ],
      "text/plain": [
       "  product    Sweetness                  Calories     Content\n",
       "0       4    Sweetened  At or above 150 calories       Dairy\n",
       "1       5  Unsweetened  At or above 150 calories       Dairy\n",
       "2       8    Sweetened        Below 150 calories       Dairy\n",
       "3       6  Unsweetened        Below 150 calories       Dairy\n",
       "4       3    Sweetened  At or above 150 calories  Dairy-Free\n",
       "5       7  Unsweetened  At or above 150 calories  Dairy-Free\n",
       "6       1    Sweetened        Below 150 calories  Dairy-Free\n",
       "7       2  Unsweetened        Below 150 calories  Dairy-Free"
      ]
     },
     "execution_count": 123,
     "metadata": {},
     "output_type": "execute_result"
    }
   ],
   "source": [
    "design"
   ]
  },
  {
   "cell_type": "code",
   "execution_count": 182,
   "metadata": {},
   "outputs": [
    {
     "name": "stderr",
     "output_type": "stream",
     "text": [
      "/opt/conda/lib/python3.7/site-packages/ipykernel_launcher.py:9: SettingWithCopyWarning: \n",
      "A value is trying to be set on a copy of a slice from a DataFrame\n",
      "\n",
      "See the caveats in the documentation: http://pandas.pydata.org/pandas-docs/stable/user_guide/indexing.html#returning-a-view-versus-a-copy\n",
      "  if __name__ == '__main__':\n",
      "/opt/conda/lib/python3.7/site-packages/ipykernel_launcher.py:12: SettingWithCopyWarning: \n",
      "A value is trying to be set on a copy of a slice from a DataFrame\n",
      "\n",
      "See the caveats in the documentation: http://pandas.pydata.org/pandas-docs/stable/user_guide/indexing.html#returning-a-view-versus-a-copy\n",
      "  if sys.path[0] == '':\n"
     ]
    },
    {
     "data": {
      "text/plain": [
       "array([0.1754386 , 0.29824561, 0.        , 0.07017544, 0.1754386 ,\n",
       "       0.21052632, 0.        , 0.07017544])"
      ]
     },
     "execution_count": 182,
     "metadata": {},
     "output_type": "execute_result"
    }
   ],
   "source": [
    "def simulate(products):\n",
    "    market = pd.DataFrame({\"product_index\":[],\"vote\":[]})\n",
    "    market['product_index'] = range(1,len(products)+1)\n",
    "    market['vote'] = pd.Series([0 for x in range(len(market.product_index))])\n",
    "    for line in range(0,len(individual_part_worths)):\n",
    "        vote_array = choose_product(products,individual_part_worths.iloc[line,:])\n",
    "        vote_list=vote_array.tolist()\n",
    "        if vote_list.count(True) ==1:\n",
    "            market['vote'][market['product_index'] == vote_list.index(True)+1] = market['vote']+1\n",
    "        if vote_list.count(True) >1:\n",
    "            n = vote_list.count(True)\n",
    "            market['vote'][market['product_index'] == vote_list.index(True)+1] = market['vote']+(1/n) \n",
    "            market['market share'] = market['vote']/market['vote'].sum()\n",
    "            array = market.iloc[:,2].to_numpy()\n",
    "         \n",
    "    return array\n",
    "simulate(product_list)"
   ]
  },
  {
   "cell_type": "markdown",
   "metadata": {},
   "source": [
    "**Task 12:** Create a variable called `my_product` that has the ideal value (maximum average utility) based on what you discovered in Task 5; this should be in the format described in Task 9.  For example, if the two attributes were color (with levels red and green) and shape (with levels round and square), then `my_product` could take the value `[\"red\", \"square\"]`.  Also create three competitiors (e.g., `competitor1`) using this same format.  Create a list called `all_products` that contains all four products and simulate the market with the products."
   ]
  },
  {
   "cell_type": "code",
   "execution_count": 144,
   "metadata": {},
   "outputs": [],
   "source": [
    "x=np.array(data.iloc[:,2:5])\n",
    "y=np.array(data.iloc[:,1])\n",
    "reg = LinearRegression().fit(x, y)"
   ]
  },
  {
   "cell_type": "code",
   "execution_count": 145,
   "metadata": {},
   "outputs": [
    {
     "data": {
      "text/plain": [
       "[3.023809523809524, 0.6666666666666669, 1.19047619047619, 0.023809523809523836]"
      ]
     },
     "execution_count": 145,
     "metadata": {},
     "output_type": "execute_result"
    }
   ],
   "source": [
    "import numpy as np\n",
    "average = np.append (reg.intercept_, reg.coef_)\n",
    "avg_utility = average.tolist()\n",
    "avg_utility"
   ]
  },
  {
   "cell_type": "code",
   "execution_count": 188,
   "metadata": {},
   "outputs": [
    {
     "name": "stderr",
     "output_type": "stream",
     "text": [
      "/opt/conda/lib/python3.7/site-packages/ipykernel_launcher.py:12: SettingWithCopyWarning: \n",
      "A value is trying to be set on a copy of a slice from a DataFrame\n",
      "\n",
      "See the caveats in the documentation: http://pandas.pydata.org/pandas-docs/stable/user_guide/indexing.html#returning-a-view-versus-a-copy\n",
      "  if sys.path[0] == '':\n",
      "/opt/conda/lib/python3.7/site-packages/ipykernel_launcher.py:9: SettingWithCopyWarning: \n",
      "A value is trying to be set on a copy of a slice from a DataFrame\n",
      "\n",
      "See the caveats in the documentation: http://pandas.pydata.org/pandas-docs/stable/user_guide/indexing.html#returning-a-view-versus-a-copy\n",
      "  if __name__ == '__main__':\n"
     ]
    },
    {
     "data": {
      "text/plain": [
       "array([0.14285714, 0.        , 0.        , 0.85714286])"
      ]
     },
     "execution_count": 188,
     "metadata": {},
     "output_type": "execute_result"
    }
   ],
   "source": [
    "my_product = ['Sweetened','Below 150 calories','Dairy']\n",
    "competitor1 = ['Sweetened','Below 150 calories','Dairy-free']\n",
    "competitor2 = ['Sweetened','Below 150 calories','Dairy']\n",
    "competitor3 = ['Unsweetened','Below 150 calories','Dairy']\n",
    "all_products = [my_product,competitor1,competitor2,competitor3]\n",
    "simulate(all_products)"
   ]
  },
  {
   "cell_type": "markdown",
   "metadata": {},
   "source": [
    "**Task 13:** Redefine `my_product` such that the most important attribute (from Task 6) now has the least liked level (per what you found in Task 5) and rerun the market simulation keeping the competitors the same."
   ]
  },
  {
   "cell_type": "code",
   "execution_count": 189,
   "metadata": {},
   "outputs": [
    {
     "name": "stderr",
     "output_type": "stream",
     "text": [
      "/opt/conda/lib/python3.7/site-packages/ipykernel_launcher.py:9: SettingWithCopyWarning: \n",
      "A value is trying to be set on a copy of a slice from a DataFrame\n",
      "\n",
      "See the caveats in the documentation: http://pandas.pydata.org/pandas-docs/stable/user_guide/indexing.html#returning-a-view-versus-a-copy\n",
      "  if __name__ == '__main__':\n",
      "/opt/conda/lib/python3.7/site-packages/ipykernel_launcher.py:12: SettingWithCopyWarning: \n",
      "A value is trying to be set on a copy of a slice from a DataFrame\n",
      "\n",
      "See the caveats in the documentation: http://pandas.pydata.org/pandas-docs/stable/user_guide/indexing.html#returning-a-view-versus-a-copy\n",
      "  if sys.path[0] == '':\n"
     ]
    },
    {
     "data": {
      "text/plain": [
       "array([0.78571429, 0.07142857, 0.14285714, 0.        ])"
      ]
     },
     "execution_count": 189,
     "metadata": {},
     "output_type": "execute_result"
    }
   ],
   "source": [
    "my_product = ['Unsweetened','At or above 150 calories','Dairy']\n",
    "competitor1 = ['Unsweetened','Below 150 calories','Dairy-free']\n",
    "competitor2 = ['Sweetened','Below 150 calories','Dairy']\n",
    "competitor3 = ['Unsweetened','Below 150 calories','Dairy']\n",
    "all_products = [my_product,competitor1,competitor2,competitor3]\n",
    "simulate(all_products)"
   ]
  }
 ],
 "metadata": {
  "kernelspec": {
   "display_name": "Python 3",
   "language": "python",
   "name": "python3"
  },
  "language_info": {
   "codemirror_mode": {
    "name": "ipython",
    "version": 3
   },
   "file_extension": ".py",
   "mimetype": "text/x-python",
   "name": "python",
   "nbconvert_exporter": "python",
   "pygments_lexer": "ipython3",
   "version": "3.7.3"
  }
 },
 "nbformat": 4,
 "nbformat_minor": 2
}
